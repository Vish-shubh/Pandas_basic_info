{
 "cells": [
  {
   "cell_type": "markdown",
   "id": "a4ef7d0f",
   "metadata": {},
   "source": [
    "## git config --global user.name shubham"
   ]
  },
  {
   "cell_type": "markdown",
   "id": "8dcb9d04",
   "metadata": {},
   "source": [
    "## git config --global user.email emailname"
   ]
  },
  {
   "cell_type": "markdown",
   "id": "ef0eeaa4",
   "metadata": {},
   "source": [
    "## git init - inalitize the file"
   ]
  },
  {
   "cell_type": "markdown",
   "id": "ef89cb5a",
   "metadata": {},
   "source": [
    "## ls -lart - show all files "
   ]
  },
  {
   "cell_type": "code",
   "execution_count": null,
   "id": "5bf22aa8",
   "metadata": {},
   "outputs": [],
   "source": []
  }
 ],
 "metadata": {
  "kernelspec": {
   "display_name": "Python 3 (ipykernel)",
   "language": "python",
   "name": "python3"
  },
  "language_info": {
   "codemirror_mode": {
    "name": "ipython",
    "version": 3
   },
   "file_extension": ".py",
   "mimetype": "text/x-python",
   "name": "python",
   "nbconvert_exporter": "python",
   "pygments_lexer": "ipython3",
   "version": "3.9.12"
  }
 },
 "nbformat": 4,
 "nbformat_minor": 5
}
